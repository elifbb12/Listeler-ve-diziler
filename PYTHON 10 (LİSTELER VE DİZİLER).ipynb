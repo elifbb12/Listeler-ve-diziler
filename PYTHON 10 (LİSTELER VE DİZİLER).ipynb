{
 "cells": [
  {
   "cell_type": "code",
   "execution_count": null,
   "metadata": {},
   "outputs": [],
   "source": [
    "#Bir dizi, birden çok veri öğesini tutan ve depolanan bir nesnedir.\n",
    "#birbiri ardına. Bir dizi üzerinde işlemler gerçekleştirebilirsiniz.\n",
    "#içinde depolanan öğeleri inceleyin ve değiştirin."
   ]
  },
  {
   "cell_type": "code",
   "execution_count": null,
   "metadata": {},
   "outputs": [],
   "source": [
    "#Listeler ve tuples arasındaki fark basittir: bir liste değiştirilebilir,\n",
    "#bu, bir programın içeriğini değiştirebileceği anlamına gelir, ancak bir demet\n",
    "#değişmez, yani bir kez oluşturulduktan sonra içeriği olamaz\n",
    "#değişti. Gerçekleştirebileceğiniz bazı işlemleri inceleyeceğiz\n",
    "#bunlara erişme ve bunları değiştirme yolları da dahil olmak üzere bu dizilerde"
   ]
  },
  {
   "cell_type": "code",
   "execution_count": null,
   "metadata": {},
   "outputs": [],
   "source": [
    "#Liste, birden çok veri öğesi içeren bir nesnedir. Listeler\n",
    "#değiştirilebilir, yani içeriklerinin bir\n",
    "#programın yürütülmesi. Listeler dinamik veri yapılarıdır, yani\n",
    "#bu öğeler bunlara eklenebilir veya bunlardan çıkarılabilir. Yapabilirsin\n",
    "#listelerle çalışmak için indeksleme, dilimleme ve çeşitli yöntemler kullanın."
   ]
  },
  {
   "cell_type": "code",
   "execution_count": 3,
   "metadata": {},
   "outputs": [
    {
     "name": "stdout",
     "output_type": "stream",
     "text": [
      "[2, 4, 6, 8, 10]\n"
     ]
    }
   ],
   "source": [
    "sayilar=[2,4,6,8,10]\n",
    "print(sayilar)"
   ]
  },
  {
   "cell_type": "code",
   "execution_count": 6,
   "metadata": {},
   "outputs": [
    {
     "name": "stdout",
     "output_type": "stream",
     "text": [
      "[0, 1, 2, 3, 4]\n"
     ]
    }
   ],
   "source": [
    "sayi=list(range(5)) #5 elemanlı bir liste yaptı. 0 dan başlar.\n",
    "print(sayi)"
   ]
  },
  {
   "cell_type": "code",
   "execution_count": 7,
   "metadata": {},
   "outputs": [
    {
     "name": "stdout",
     "output_type": "stream",
     "text": [
      "[1, 3, 5, 7, 9]\n"
     ]
    }
   ],
   "source": [
    "sayi=list(range(1,10,2))\n",
    "print(sayi)"
   ]
  },
  {
   "cell_type": "code",
   "execution_count": 8,
   "metadata": {},
   "outputs": [
    {
     "name": "stdout",
     "output_type": "stream",
     "text": [
      "[5, 5, 5, 5, 5]\n"
     ]
    }
   ],
   "source": [
    "#list*n\n",
    "sayilar=[5]*5\n",
    "print(sayilar)"
   ]
  },
  {
   "cell_type": "code",
   "execution_count": 9,
   "metadata": {},
   "outputs": [
    {
     "name": "stdout",
     "output_type": "stream",
     "text": [
      "[1, 2, 3, 1, 2, 3, 1, 2, 3, 1, 2, 3, 1, 2, 3]\n"
     ]
    }
   ],
   "source": [
    "sayilar=[1,2,3]*5 #örüntü oluşturur.\n",
    "print(sayilar)"
   ]
  },
  {
   "cell_type": "code",
   "execution_count": 10,
   "metadata": {},
   "outputs": [
    {
     "name": "stdout",
     "output_type": "stream",
     "text": [
      "2\n",
      "4\n",
      "6\n",
      "8\n",
      "10\n"
     ]
    }
   ],
   "source": [
    "sayilar=[2,4,6,8,10]\n",
    "for n in sayilar:\n",
    "    print(n)"
   ]
  },
  {
   "cell_type": "code",
   "execution_count": 12,
   "metadata": {},
   "outputs": [
    {
     "name": "stdout",
     "output_type": "stream",
     "text": [
      "2 4\n"
     ]
    }
   ],
   "source": [
    "sayilar=[2,4,6,8,10]\n",
    "print(sayilar[0],sayilar[1])"
   ]
  },
  {
   "cell_type": "code",
   "execution_count": 16,
   "metadata": {},
   "outputs": [
    {
     "name": "stdout",
     "output_type": "stream",
     "text": [
      "2\n",
      "4\n",
      "6\n",
      "8\n"
     ]
    }
   ],
   "source": [
    "sayilar=[2,4,6,8,10]\n",
    "index =0\n",
    "while index<4:\n",
    "    print(sayilar[index])\n",
    "    index+=1\n",
    "    "
   ]
  },
  {
   "cell_type": "code",
   "execution_count": 18,
   "metadata": {},
   "outputs": [
    {
     "name": "stdout",
     "output_type": "stream",
     "text": [
      "10 8 4\n"
     ]
    }
   ],
   "source": [
    "sayilar=[2,4,6,8,10]\n",
    "print(sayilar[-1],sayilar[-2],sayilar[-4])"
   ]
  },
  {
   "cell_type": "code",
   "execution_count": 21,
   "metadata": {},
   "outputs": [
    {
     "name": "stdout",
     "output_type": "stream",
     "text": [
      "5\n"
     ]
    }
   ],
   "source": [
    "sayilar=[2,4,6,8,10]\n",
    "boyut=len(sayilar)\n",
    "print(boyut)"
   ]
  },
  {
   "cell_type": "code",
   "execution_count": 32,
   "metadata": {},
   "outputs": [
    {
     "name": "stdout",
     "output_type": "stream",
     "text": [
      "2\n",
      "4\n",
      "6\n",
      "8\n",
      "5\n"
     ]
    }
   ],
   "source": [
    "sayilar=[2,4,6,8,5]\n",
    "index=0\n",
    "while index<len(sayilar):\n",
    "    print(sayilar[index])\n",
    "    index+=1"
   ]
  },
  {
   "cell_type": "code",
   "execution_count": 29,
   "metadata": {},
   "outputs": [
    {
     "name": "stdout",
     "output_type": "stream",
     "text": [
      "[2, 4, 6, 8, 5]\n",
      "[99, 4, 6, 8, 5]\n"
     ]
    }
   ],
   "source": [
    "sayilar=[2,4,6,8,5]\n",
    "print(sayilar)\n",
    "sayilar[0]=99 #değiştirilebilir.\n",
    "print(sayilar)"
   ]
  },
  {
   "cell_type": "code",
   "execution_count": 33,
   "metadata": {},
   "outputs": [
    {
     "name": "stdout",
     "output_type": "stream",
     "text": [
      "bu dizide 5.eleman yoktur...\n"
     ]
    }
   ],
   "source": [
    "try:\n",
    "    sayilar=[1,2,3,4,5]\n",
    "    sayilar[5]=99\n",
    "except IndexError:\n",
    "    print(\"bu dizide 5.eleman yoktur...\")"
   ]
  },
  {
   "cell_type": "code",
   "execution_count": 38,
   "metadata": {},
   "outputs": [
    {
     "name": "stdout",
     "output_type": "stream",
     "text": [
      "[99, 5, 5, 5, 5]\n",
      "[99, 99, 5, 5, 5]\n",
      "[99, 99, 99, 5, 5]\n",
      "[99, 99, 99, 99, 5]\n",
      "[99, 99, 99, 99, 99]\n"
     ]
    }
   ],
   "source": [
    "sayilar=[5]*5\n",
    "index=0\n",
    "while index<len(sayilar):\n",
    "    sayilar[index]=99\n",
    "    index+=1\n",
    "    print(sayilar)\n"
   ]
  },
  {
   "cell_type": "code",
   "execution_count": 42,
   "metadata": {},
   "outputs": [
    {
     "name": "stdout",
     "output_type": "stream",
     "text": [
      "[0, 1, 2, 3, 4, 5, 6, 7, 8, 9, 10]\n"
     ]
    }
   ],
   "source": [
    "liste1=[0,1,2,3,4]\n",
    "liste=[5,6,7,8,9,10]\n",
    "toplam=liste1+liste\n",
    "print(toplam)"
   ]
  },
  {
   "cell_type": "code",
   "execution_count": 44,
   "metadata": {},
   "outputs": [
    {
     "name": "stdout",
     "output_type": "stream",
     "text": [
      "[0, 1, 2, 3, 4, 5, 6, 7, 8, 9, 10]\n"
     ]
    }
   ],
   "source": [
    "liste1=[0,1,2,3,4]\n",
    "liste=[5,6,7,8,9,10]\n",
    "liste1+=liste\n",
    "print(liste1)\n"
   ]
  },
  {
   "cell_type": "code",
   "execution_count": 48,
   "metadata": {},
   "outputs": [
    {
     "name": "stdout",
     "output_type": "stream",
     "text": [
      "[0, 1, 2, 3, 4, 'elif', 'burcu']\n"
     ]
    }
   ],
   "source": [
    "liste1=[0,1,2,3,4]\n",
    "liste=[\"elif\",\"burcu\"] #birleştirilebilir.\n",
    "toplam=liste1+liste\n",
    "print(toplam)"
   ]
  },
  {
   "cell_type": "code",
   "execution_count": 51,
   "metadata": {},
   "outputs": [
    {
     "name": "stdout",
     "output_type": "stream",
     "text": [
      "[0, 1, 99, 3, 4]\n"
     ]
    }
   ],
   "source": [
    "liste1=[0,1,2,3,4] #0 dan başlar. listenin ikinci elemanı 3 tür.\n",
    "liste1[2]=99\n",
    "print(liste1)"
   ]
  },
  {
   "cell_type": "code",
   "execution_count": 52,
   "metadata": {},
   "outputs": [
    {
     "name": "stdout",
     "output_type": "stream",
     "text": [
      "3\n"
     ]
    }
   ],
   "source": [
    "liste1=[0,1,2,3,4]\n",
    "print(liste1[-2])"
   ]
  },
  {
   "cell_type": "code",
   "execution_count": 53,
   "metadata": {},
   "outputs": [
    {
     "name": "stdout",
     "output_type": "stream",
     "text": [
      "4\n"
     ]
    }
   ],
   "source": [
    "liste1=[0,1,2,3,4,5] #tersten olunca 1 den başlar\n",
    "print(liste1[-2])"
   ]
  },
  {
   "cell_type": "code",
   "execution_count": null,
   "metadata": {},
   "outputs": [],
   "source": [
    "#Dilimleme ifadesi, bir diziden bir dizi öğeyi seçer."
   ]
  },
  {
   "cell_type": "code",
   "execution_count": 54,
   "metadata": {},
   "outputs": [
    {
     "name": "stdout",
     "output_type": "stream",
     "text": [
      "['salı', 'çarşamba', 'perşembe']\n"
     ]
    }
   ],
   "source": [
    "gunler=[\"pazartesi\",\"salı\",\"çarşamba\",\"perşembe\",\"cuma\",\"cumartesi\",\"pazar\"]\n",
    "sirala=gunler[1:4] #0 dan saymaya başlar.4.eleman dahil değildir.\n",
    "print(sirala)"
   ]
  },
  {
   "cell_type": "code",
   "execution_count": 56,
   "metadata": {},
   "outputs": [
    {
     "name": "stdout",
     "output_type": "stream",
     "text": [
      "['salı']\n"
     ]
    }
   ],
   "source": [
    "gunler=[\"pazartesi\",\"salı\",\"çarşamba\",\"perşembe\",\"cuma\",\"cumartesi\",\"pazar\"]\n",
    "sirala=gunler[1:2] \n",
    "print(sirala)"
   ]
  },
  {
   "cell_type": "code",
   "execution_count": 59,
   "metadata": {},
   "outputs": [
    {
     "name": "stdout",
     "output_type": "stream",
     "text": [
      "['salı', 'çarşamba', 'perşembe', 'cuma', 'cumartesi', 'pazar']\n"
     ]
    }
   ],
   "source": [
    "gunler=[\"pazartesi\",\"salı\",\"çarşamba\",\"perşembe\",\"cuma\",\"cumartesi\",\"pazar\"]\n",
    "sirala=gunler[1:] #ikinci elemanı ve sonrasını yazdırır.\n",
    "print(sirala)"
   ]
  },
  {
   "cell_type": "code",
   "execution_count": 60,
   "metadata": {},
   "outputs": [
    {
     "name": "stdout",
     "output_type": "stream",
     "text": [
      "['pazartesi', 'salı', 'çarşamba', 'perşembe']\n"
     ]
    }
   ],
   "source": [
    "gunler=[\"pazartesi\",\"salı\",\"çarşamba\",\"perşembe\",\"cuma\",\"cumartesi\",\"pazar\"]\n",
    "sirala=gunler[:4] #ilk elemandan dördüncüye kadar yazdırır.\n",
    "print(sirala)"
   ]
  },
  {
   "cell_type": "code",
   "execution_count": 61,
   "metadata": {},
   "outputs": [
    {
     "name": "stdout",
     "output_type": "stream",
     "text": [
      "['pazartesi', 'salı', 'çarşamba', 'perşembe', 'cuma', 'cumartesi', 'pazar']\n"
     ]
    }
   ],
   "source": [
    "gunler=[\"pazartesi\",\"salı\",\"çarşamba\",\"perşembe\",\"cuma\",\"cumartesi\",\"pazar\"]\n",
    "sirala=gunler[:] #hepsini yazdırır.\n",
    "print(sirala)"
   ]
  },
  {
   "cell_type": "code",
   "execution_count": 70,
   "metadata": {},
   "outputs": [
    {
     "name": "stdout",
     "output_type": "stream",
     "text": [
      "[]\n"
     ]
    }
   ],
   "source": [
    "gunler=[\"pazartesi\",\"salı\",\"çarşamba\",\"perşembe\",\"cuma\",\"cumartesi\",\"pazar\"]\n",
    "sirala=gunler[9:] #değer aralığında değilse boş yazdırır.\n",
    "print(sirala)"
   ]
  },
  {
   "cell_type": "code",
   "execution_count": 64,
   "metadata": {},
   "outputs": [
    {
     "name": "stdout",
     "output_type": "stream",
     "text": [
      "['çarşamba', 'cuma', 'pazar']\n"
     ]
    }
   ],
   "source": [
    "gunler=[\"pazartesi\",\"salı\",\"çarşamba\",\"perşembe\",\"cuma\",\"cumartesi\",\"pazar\"]\n",
    "sirala=gunler[2:6:2]\n",
    "print(sirala)"
   ]
  },
  {
   "cell_type": "code",
   "execution_count": 65,
   "metadata": {},
   "outputs": [
    {
     "name": "stdout",
     "output_type": "stream",
     "text": [
      "['çarşamba', 'cuma', 'pazar']\n"
     ]
    }
   ],
   "source": [
    "gunler=[\"pazartesi\",\"salı\",\"çarşamba\",\"perşembe\",\"cuma\",\"cumartesi\",\"pazar\"]\n",
    "sirala=gunler[2::2]\n",
    "print(sirala)"
   ]
  },
  {
   "cell_type": "code",
   "execution_count": 68,
   "metadata": {},
   "outputs": [
    {
     "name": "stdout",
     "output_type": "stream",
     "text": [
      "['çarşamba', 'perşembe', 'cuma', 'cumartesi', 'pazar']\n"
     ]
    }
   ],
   "source": [
    "gunler=[\"pazartesi\",\"salı\",\"çarşamba\",\"perşembe\",\"cuma\",\"cumartesi\",\"pazar\"]\n",
    "print(gunler[-5:])"
   ]
  },
  {
   "cell_type": "code",
   "execution_count": null,
   "metadata": {},
   "outputs": [],
   "source": []
  },
  {
   "cell_type": "code",
   "execution_count": 81,
   "metadata": {},
   "outputs": [
    {
     "name": "stdout",
     "output_type": "stream",
     "text": [
      "aradığınız numarayı giriniz: 224\n",
      "aradığınız numara mevcut değil...\n"
     ]
    }
   ],
   "source": [
    "#LİSTE İÇİNDEN SEÇMEK\n",
    "\n",
    "def main():\n",
    "    numara=[\"A101\",\"A102\",\"A103\",\"A104\"]\n",
    "    ara=input(\"aradığınız numarayı giriniz: \")\n",
    "    if ara in numara:\n",
    "        print(\"aradığınız numara bulundu.\")\n",
    "    else:\n",
    "        print(\"aradığınız numara mevcut değil...\")\n",
    "main()\n",
    "\n",
    "   \n",
    "    \n"
   ]
  },
  {
   "cell_type": "code",
   "execution_count": 85,
   "metadata": {},
   "outputs": [
    {
     "name": "stdout",
     "output_type": "stream",
     "text": [
      "aradığınız numarayı giriniz: A101\n",
      "aradığınız numara bulundu.\n"
     ]
    }
   ],
   "source": [
    "def main():\n",
    "    numara=[\"A101\",\"A102\",\"A103\",\"A104\"]\n",
    "    ara=input(\"aradığınız numarayı giriniz: \")\n",
    "    if ara not in numara:\n",
    "        print(\"aradığınız numara mevcut değil...\")\n",
    "    else:\n",
    "        print(\"aradığınız numara bulundu.\")\n",
    "       \n",
    "main()"
   ]
  },
  {
   "cell_type": "code",
   "execution_count": 108,
   "metadata": {},
   "outputs": [
    {
     "ename": "KeyboardInterrupt",
     "evalue": "Interrupted by user",
     "output_type": "error",
     "traceback": [
      "\u001b[1;31m---------------------------------------------------------------------------\u001b[0m",
      "\u001b[1;31mKeyboardInterrupt\u001b[0m                         Traceback (most recent call last)",
      "\u001b[1;32m<ipython-input-108-819f98d383f2>\u001b[0m in \u001b[0;36m<module>\u001b[1;34m\u001b[0m\n\u001b[0;32m      3\u001b[0m \u001b[1;32mwhile\u001b[0m \u001b[0mdevam\u001b[0m \u001b[1;33m==\u001b[0m\u001b[1;34m'e'\u001b[0m \u001b[1;32mor\u001b[0m \u001b[0mdevam\u001b[0m\u001b[1;33m==\u001b[0m\u001b[1;34m'E'\u001b[0m\u001b[1;33m:\u001b[0m\u001b[1;33m\u001b[0m\u001b[1;33m\u001b[0m\u001b[0m\n\u001b[0;32m      4\u001b[0m \u001b[1;33m\u001b[0m\u001b[0m\n\u001b[1;32m----> 5\u001b[1;33m     \u001b[0misim\u001b[0m\u001b[1;33m=\u001b[0m\u001b[0minput\u001b[0m\u001b[1;33m(\u001b[0m\u001b[1;34m\"isim giriniz: \"\u001b[0m\u001b[1;33m)\u001b[0m\u001b[1;33m\u001b[0m\u001b[1;33m\u001b[0m\u001b[0m\n\u001b[0m\u001b[0;32m      6\u001b[0m     \u001b[0mliste\u001b[0m\u001b[1;33m.\u001b[0m\u001b[0mappend\u001b[0m\u001b[1;33m(\u001b[0m\u001b[0misim\u001b[0m\u001b[1;33m)\u001b[0m\u001b[1;31m#Bu metodu, bir listeye öğe eklemek için kullanıyoruz.\u001b[0m\u001b[1;33m\u001b[0m\u001b[1;33m\u001b[0m\u001b[0m\n\u001b[0;32m      7\u001b[0m     \u001b[0mdevam\u001b[0m\u001b[1;33m=\u001b[0m \u001b[0minput\u001b[0m\u001b[1;33m(\u001b[0m\u001b[1;34m\"devam etmek istiyor musunuz?(e=evet,hayır=h): \"\u001b[0m\u001b[1;33m)\u001b[0m\u001b[1;33m\u001b[0m\u001b[1;33m\u001b[0m\u001b[0m\n",
      "\u001b[1;32m~\\anaconda3\\lib\\site-packages\\ipykernel\\kernelbase.py\u001b[0m in \u001b[0;36mraw_input\u001b[1;34m(self, prompt)\u001b[0m\n\u001b[0;32m    858\u001b[0m                 \u001b[1;34m\"raw_input was called, but this frontend does not support input requests.\"\u001b[0m\u001b[1;33m\u001b[0m\u001b[1;33m\u001b[0m\u001b[0m\n\u001b[0;32m    859\u001b[0m             )\n\u001b[1;32m--> 860\u001b[1;33m         return self._input_request(str(prompt),\n\u001b[0m\u001b[0;32m    861\u001b[0m             \u001b[0mself\u001b[0m\u001b[1;33m.\u001b[0m\u001b[0m_parent_ident\u001b[0m\u001b[1;33m,\u001b[0m\u001b[1;33m\u001b[0m\u001b[1;33m\u001b[0m\u001b[0m\n\u001b[0;32m    862\u001b[0m             \u001b[0mself\u001b[0m\u001b[1;33m.\u001b[0m\u001b[0m_parent_header\u001b[0m\u001b[1;33m,\u001b[0m\u001b[1;33m\u001b[0m\u001b[1;33m\u001b[0m\u001b[0m\n",
      "\u001b[1;32m~\\anaconda3\\lib\\site-packages\\ipykernel\\kernelbase.py\u001b[0m in \u001b[0;36m_input_request\u001b[1;34m(self, prompt, ident, parent, password)\u001b[0m\n\u001b[0;32m    902\u001b[0m             \u001b[1;32mexcept\u001b[0m \u001b[0mKeyboardInterrupt\u001b[0m\u001b[1;33m:\u001b[0m\u001b[1;33m\u001b[0m\u001b[1;33m\u001b[0m\u001b[0m\n\u001b[0;32m    903\u001b[0m                 \u001b[1;31m# re-raise KeyboardInterrupt, to truncate traceback\u001b[0m\u001b[1;33m\u001b[0m\u001b[1;33m\u001b[0m\u001b[1;33m\u001b[0m\u001b[0m\n\u001b[1;32m--> 904\u001b[1;33m                 \u001b[1;32mraise\u001b[0m \u001b[0mKeyboardInterrupt\u001b[0m\u001b[1;33m(\u001b[0m\u001b[1;34m\"Interrupted by user\"\u001b[0m\u001b[1;33m)\u001b[0m \u001b[1;32mfrom\u001b[0m \u001b[1;32mNone\u001b[0m\u001b[1;33m\u001b[0m\u001b[1;33m\u001b[0m\u001b[0m\n\u001b[0m\u001b[0;32m    905\u001b[0m             \u001b[1;32mexcept\u001b[0m \u001b[0mException\u001b[0m \u001b[1;32mas\u001b[0m \u001b[0me\u001b[0m\u001b[1;33m:\u001b[0m\u001b[1;33m\u001b[0m\u001b[1;33m\u001b[0m\u001b[0m\n\u001b[0;32m    906\u001b[0m                 \u001b[0mself\u001b[0m\u001b[1;33m.\u001b[0m\u001b[0mlog\u001b[0m\u001b[1;33m.\u001b[0m\u001b[0mwarning\u001b[0m\u001b[1;33m(\u001b[0m\u001b[1;34m\"Invalid Message:\"\u001b[0m\u001b[1;33m,\u001b[0m \u001b[0mexc_info\u001b[0m\u001b[1;33m=\u001b[0m\u001b[1;32mTrue\u001b[0m\u001b[1;33m)\u001b[0m\u001b[1;33m\u001b[0m\u001b[1;33m\u001b[0m\u001b[0m\n",
      "\u001b[1;31mKeyboardInterrupt\u001b[0m: Interrupted by user"
     ]
    }
   ],
   "source": [
    "liste=[]\n",
    "devam='e'\n",
    "while devam =='e' or devam=='E':\n",
    "    \n",
    "    isim=input(\"isim giriniz: \")\n",
    "    liste.append(isim)#Bu metodu, bir listeye öğe eklemek için kullanıyoruz.\n",
    "    devam= input(\"devam etmek istiyor musunuz?(e=evet,hayır=h): \")\n",
    "    print()\n",
    "for isim in liste:\n",
    "    print(isim)\n",
    "print(liste)#liste şeklinde gösterir."
   ]
  },
  {
   "cell_type": "code",
   "execution_count": 101,
   "metadata": {},
   "outputs": [
    {
     "name": "stdout",
     "output_type": "stream",
     "text": [
      "YIRTICI HAYVANLAR\n",
      "['tilki', 'aslan', 'kaplan', 'çita']\n",
      "değiştirmek istediğiniz hayvanın ismini giriniz: aslan\n",
      "yeni hayvanın ismini giriniz: kartal\n",
      "['tilki', 'kartal', 'kaplan', 'çita']\n"
     ]
    }
   ],
   "source": [
    "def main ():\n",
    "    print(\"YIRTICI HAYVANLAR\")\n",
    "    hayvan=[\"tilki\",\"aslan\",\"kaplan\",\"çita\"]\n",
    "    try:\n",
    "    \n",
    "        print(hayvan)\n",
    "        degisim=input(\"değiştirmek istediğiniz hayvanın ismini giriniz: \")\n",
    "        hayvan_index=hayvan.index(degisim)\n",
    "        yeni_deger=input(\"yeni hayvanın ismini giriniz: \")\n",
    "        hayvan[hayvan_index]=yeni_deger\n",
    "        print(hayvan)\n",
    "    except ValueError:\n",
    "        print(\"değiştirmek istediğiniz hayvanın adı listede yok...\")\n",
    "main()"
   ]
  },
  {
   "cell_type": "code",
   "execution_count": null,
   "metadata": {},
   "outputs": [],
   "source": [
    "#insert kelimesi ‘yerleştirmek, sokmak’ gibi anlamlara gelir. insert() metodu da bu anlama uygun olarak,\n",
    "#öğeleri listenin istediğimiz bir konumuna yerleştirir."
   ]
  },
  {
   "cell_type": "code",
   "execution_count": null,
   "metadata": {},
   "outputs": [],
   "source": [
    "#insert() metodu iki parametre alıyor. İlk parametre, öğenin hangi konuma yerleştirileceğini, \n",
    "#ikinci parametre ise yerleştirilecek öğenin ne olduğunu gösteriyor."
   ]
  },
  {
   "cell_type": "code",
   "execution_count": 107,
   "metadata": {},
   "outputs": [
    {
     "name": "stdout",
     "output_type": "stream",
     "text": [
      "['elif', 'büyükbatmaz', '190205051', 'bilgisayar mühendisliği', 'normal öğretim']\n"
     ]
    }
   ],
   "source": [
    "liste=[\"elif\",\"büyükbatmaz\",\"190205051\",\"bilgisayar mühendisliği\"]\n",
    "liste.insert(4,\"normal öğretim\")\n",
    "print(liste)"
   ]
  },
  {
   "cell_type": "code",
   "execution_count": null,
   "metadata": {},
   "outputs": [],
   "source": [
    "#sort() adlı bu önemli metot bir listenin öğelerini belli bir ölçüte göre sıraya dizmemizi sağlar."
   ]
  },
  {
   "cell_type": "code",
   "execution_count": 109,
   "metadata": {},
   "outputs": [
    {
     "name": "stdout",
     "output_type": "stream",
     "text": [
      "orijinal sıradaki sayılar:  [23, 67, 17, 23, 10, 8, 3, 6, 1213, 45, 234, 879]\n",
      "düzenlenmiş hali:  [3, 6, 8, 10, 17, 23, 23, 45, 67, 234, 879, 1213]\n"
     ]
    }
   ],
   "source": [
    "sayilar=[23,67,17,23,10,8,3,6,1213,45,234,879]\n",
    "print(\"orijinal sıradaki sayılar: \", sayilar)\n",
    "sayilar.sort()#küçükten büğüğe sıraladı.\n",
    "print(\"düzenlenmiş hali: \",sayilar)\n"
   ]
  },
  {
   "cell_type": "code",
   "execution_count": 110,
   "metadata": {},
   "outputs": [
    {
     "name": "stdout",
     "output_type": "stream",
     "text": [
      "['tilki', 'aslan', 'kaplan', 'çita']\n",
      "alfabetik sırlamaya göre:  ['aslan', 'kaplan', 'tilki', 'çita']\n"
     ]
    }
   ],
   "source": [
    "hayvan=[\"tilki\",\"aslan\",\"kaplan\",\"çita\"]\n",
    "print(hayvan)\n",
    "hayvan.sort()\n",
    "print(\"alfabetik sırlamaya göre: \",hayvan)"
   ]
  },
  {
   "cell_type": "code",
   "execution_count": 111,
   "metadata": {},
   "outputs": [
    {
     "name": "stdout",
     "output_type": "stream",
     "text": [
      "['tilki', 'aslan', 'kaplan', 'çita']\n",
      "['tilki', 'aslan', 'çita']\n"
     ]
    }
   ],
   "source": [
    "# remove() Bu metot listeden öğe silmemizi sağlar.\n",
    "hayvan=[\"tilki\",\"aslan\",\"kaplan\",\"çita\"]\n",
    "print(hayvan)\n",
    "hayvan.remove(\"kaplan\")\n",
    "print(hayvan)"
   ]
  },
  {
   "cell_type": "code",
   "execution_count": 121,
   "metadata": {},
   "outputs": [
    {
     "name": "stdout",
     "output_type": "stream",
     "text": [
      "['tilki', 'aslan', 'kaplan', 'çita']\n"
     ]
    },
    {
     "ename": "KeyboardInterrupt",
     "evalue": "Interrupted by user",
     "output_type": "error",
     "traceback": [
      "\u001b[1;31m---------------------------------------------------------------------------\u001b[0m",
      "\u001b[1;31mKeyboardInterrupt\u001b[0m                         Traceback (most recent call last)",
      "\u001b[1;32m<ipython-input-121-41ca7ff10c6f>\u001b[0m in \u001b[0;36m<module>\u001b[1;34m\u001b[0m\n\u001b[0;32m      9\u001b[0m         \u001b[0mprint\u001b[0m\u001b[1;33m(\u001b[0m\u001b[1;34m\"yanlış isim girdiniz.\"\u001b[0m\u001b[1;33m)\u001b[0m\u001b[1;33m\u001b[0m\u001b[1;33m\u001b[0m\u001b[0m\n\u001b[0;32m     10\u001b[0m         \u001b[0mprint\u001b[0m\u001b[1;33m(\u001b[0m\u001b[1;34m\"tekrar deneyiniz...\"\u001b[0m\u001b[1;33m)\u001b[0m\u001b[1;33m\u001b[0m\u001b[1;33m\u001b[0m\u001b[0m\n\u001b[1;32m---> 11\u001b[1;33m \u001b[0mmain\u001b[0m\u001b[1;33m(\u001b[0m\u001b[1;33m)\u001b[0m\u001b[1;33m\u001b[0m\u001b[1;33m\u001b[0m\u001b[0m\n\u001b[0m",
      "\u001b[1;32m<ipython-input-121-41ca7ff10c6f>\u001b[0m in \u001b[0;36mmain\u001b[1;34m()\u001b[0m\n\u001b[0;32m      3\u001b[0m         \u001b[0mhayvan\u001b[0m\u001b[1;33m=\u001b[0m\u001b[1;33m[\u001b[0m\u001b[1;34m\"tilki\"\u001b[0m\u001b[1;33m,\u001b[0m\u001b[1;34m\"aslan\"\u001b[0m\u001b[1;33m,\u001b[0m\u001b[1;34m\"kaplan\"\u001b[0m\u001b[1;33m,\u001b[0m\u001b[1;34m\"çita\"\u001b[0m\u001b[1;33m]\u001b[0m\u001b[1;33m\u001b[0m\u001b[1;33m\u001b[0m\u001b[0m\n\u001b[0;32m      4\u001b[0m         \u001b[0mprint\u001b[0m\u001b[1;33m(\u001b[0m\u001b[0mhayvan\u001b[0m\u001b[1;33m)\u001b[0m\u001b[1;33m\u001b[0m\u001b[1;33m\u001b[0m\u001b[0m\n\u001b[1;32m----> 5\u001b[1;33m         \u001b[0mdegisim\u001b[0m\u001b[1;33m=\u001b[0m\u001b[0minput\u001b[0m\u001b[1;33m(\u001b[0m\u001b[1;34m\"silmek istediğiniz hayvanın ismini yazınız: \"\u001b[0m\u001b[1;33m)\u001b[0m\u001b[1;33m\u001b[0m\u001b[1;33m\u001b[0m\u001b[0m\n\u001b[0m\u001b[0;32m      6\u001b[0m         \u001b[0mhayvan\u001b[0m\u001b[1;33m.\u001b[0m\u001b[0mremove\u001b[0m\u001b[1;33m(\u001b[0m\u001b[0mdegisim\u001b[0m\u001b[1;33m)\u001b[0m\u001b[1;33m\u001b[0m\u001b[1;33m\u001b[0m\u001b[0m\n\u001b[0;32m      7\u001b[0m         \u001b[0mprint\u001b[0m\u001b[1;33m(\u001b[0m\u001b[0mhayvan\u001b[0m\u001b[1;33m)\u001b[0m\u001b[1;33m\u001b[0m\u001b[1;33m\u001b[0m\u001b[0m\n",
      "\u001b[1;32m~\\anaconda3\\lib\\site-packages\\ipykernel\\kernelbase.py\u001b[0m in \u001b[0;36mraw_input\u001b[1;34m(self, prompt)\u001b[0m\n\u001b[0;32m    858\u001b[0m                 \u001b[1;34m\"raw_input was called, but this frontend does not support input requests.\"\u001b[0m\u001b[1;33m\u001b[0m\u001b[1;33m\u001b[0m\u001b[0m\n\u001b[0;32m    859\u001b[0m             )\n\u001b[1;32m--> 860\u001b[1;33m         return self._input_request(str(prompt),\n\u001b[0m\u001b[0;32m    861\u001b[0m             \u001b[0mself\u001b[0m\u001b[1;33m.\u001b[0m\u001b[0m_parent_ident\u001b[0m\u001b[1;33m,\u001b[0m\u001b[1;33m\u001b[0m\u001b[1;33m\u001b[0m\u001b[0m\n\u001b[0;32m    862\u001b[0m             \u001b[0mself\u001b[0m\u001b[1;33m.\u001b[0m\u001b[0m_parent_header\u001b[0m\u001b[1;33m,\u001b[0m\u001b[1;33m\u001b[0m\u001b[1;33m\u001b[0m\u001b[0m\n",
      "\u001b[1;32m~\\anaconda3\\lib\\site-packages\\ipykernel\\kernelbase.py\u001b[0m in \u001b[0;36m_input_request\u001b[1;34m(self, prompt, ident, parent, password)\u001b[0m\n\u001b[0;32m    902\u001b[0m             \u001b[1;32mexcept\u001b[0m \u001b[0mKeyboardInterrupt\u001b[0m\u001b[1;33m:\u001b[0m\u001b[1;33m\u001b[0m\u001b[1;33m\u001b[0m\u001b[0m\n\u001b[0;32m    903\u001b[0m                 \u001b[1;31m# re-raise KeyboardInterrupt, to truncate traceback\u001b[0m\u001b[1;33m\u001b[0m\u001b[1;33m\u001b[0m\u001b[1;33m\u001b[0m\u001b[0m\n\u001b[1;32m--> 904\u001b[1;33m                 \u001b[1;32mraise\u001b[0m \u001b[0mKeyboardInterrupt\u001b[0m\u001b[1;33m(\u001b[0m\u001b[1;34m\"Interrupted by user\"\u001b[0m\u001b[1;33m)\u001b[0m \u001b[1;32mfrom\u001b[0m \u001b[1;32mNone\u001b[0m\u001b[1;33m\u001b[0m\u001b[1;33m\u001b[0m\u001b[0m\n\u001b[0m\u001b[0;32m    905\u001b[0m             \u001b[1;32mexcept\u001b[0m \u001b[0mException\u001b[0m \u001b[1;32mas\u001b[0m \u001b[0me\u001b[0m\u001b[1;33m:\u001b[0m\u001b[1;33m\u001b[0m\u001b[1;33m\u001b[0m\u001b[0m\n\u001b[0;32m    906\u001b[0m                 \u001b[0mself\u001b[0m\u001b[1;33m.\u001b[0m\u001b[0mlog\u001b[0m\u001b[1;33m.\u001b[0m\u001b[0mwarning\u001b[0m\u001b[1;33m(\u001b[0m\u001b[1;34m\"Invalid Message:\"\u001b[0m\u001b[1;33m,\u001b[0m \u001b[0mexc_info\u001b[0m\u001b[1;33m=\u001b[0m\u001b[1;32mTrue\u001b[0m\u001b[1;33m)\u001b[0m\u001b[1;33m\u001b[0m\u001b[1;33m\u001b[0m\u001b[0m\n",
      "\u001b[1;31mKeyboardInterrupt\u001b[0m: Interrupted by user"
     ]
    }
   ],
   "source": [
    "def main():\n",
    "    try:\n",
    "        hayvan=[\"tilki\",\"aslan\",\"kaplan\",\"çita\"]\n",
    "        print(hayvan)\n",
    "        degisim=input(\"silmek istediğiniz hayvanın ismini yazınız: \")\n",
    "        hayvan.remove(degisim)\n",
    "        print(hayvan)\n",
    "    except ValueError:\n",
    "        print(\"yanlış isim girdiniz.\")\n",
    "        print(\"tekrar deneyiniz...\")\n",
    "main()"
   ]
  },
  {
   "cell_type": "code",
   "execution_count": 115,
   "metadata": {},
   "outputs": [
    {
     "data": {
      "text/plain": [
       "<list_reverseiterator at 0x23f5c1867f0>"
      ]
     },
     "execution_count": 115,
     "metadata": {},
     "output_type": "execute_result"
    }
   ],
   "source": [
    "# reverse() metodu terse çevirir.Birçok yöntem vardır.\n",
    "hayvan=[\"tilki\",\"aslan\",\"kaplan\",\"çita\"]\n",
    "hayvan[::-1]\n",
    "reversed(hayvan)"
   ]
  },
  {
   "cell_type": "code",
   "execution_count": null,
   "metadata": {},
   "outputs": [],
   "source": [
    "#<list_reverseiterator at 0x23f5c1867f0> \n",
    "#içeriğini öğrenmek için birkaç yöntem vardır.\n"
   ]
  },
  {
   "cell_type": "code",
   "execution_count": 116,
   "metadata": {},
   "outputs": [
    {
     "name": "stdout",
     "output_type": "stream",
     "text": [
      "çita kaplan aslan tilki\n"
     ]
    }
   ],
   "source": [
    "print(*reversed(hayvan))"
   ]
  },
  {
   "cell_type": "code",
   "execution_count": 117,
   "metadata": {},
   "outputs": [
    {
     "name": "stdout",
     "output_type": "stream",
     "text": [
      "['çita', 'kaplan', 'aslan', 'tilki']\n"
     ]
    }
   ],
   "source": [
    "print(list(reversed(hayvan)))"
   ]
  },
  {
   "cell_type": "code",
   "execution_count": 119,
   "metadata": {},
   "outputs": [
    {
     "name": "stdout",
     "output_type": "stream",
     "text": [
      "çita\n",
      "kaplan\n",
      "aslan\n",
      "tilki\n"
     ]
    }
   ],
   "source": [
    "for i in reversed(hayvan):\n",
    "    print(i)"
   ]
  },
  {
   "cell_type": "code",
   "execution_count": 120,
   "metadata": {},
   "outputs": [
    {
     "name": "stdout",
     "output_type": "stream",
     "text": [
      "['çita', 'kaplan', 'aslan', 'tilki']\n"
     ]
    }
   ],
   "source": [
    "hayvan=[\"tilki\",\"aslan\",\"kaplan\",\"çita\"]\n",
    "hayvan.reverse()\n",
    "print(hayvan)"
   ]
  },
  {
   "cell_type": "code",
   "execution_count": 122,
   "metadata": {},
   "outputs": [
    {
     "name": "stdout",
     "output_type": "stream",
     "text": [
      "[23, 67, 17, 10, 8, 3, 6, 1213, 45, 234, 879]\n"
     ]
    }
   ],
   "source": [
    "sayilar=[23,67,17,23,10,8,3,6,1213,45,234,879]\n",
    "del sayilar[3]\n",
    "print(sayilar)"
   ]
  },
  {
   "cell_type": "code",
   "execution_count": 123,
   "metadata": {},
   "outputs": [
    {
     "name": "stdout",
     "output_type": "stream",
     "text": [
      "3\n"
     ]
    }
   ],
   "source": [
    "sayilar=[23,67,17,23,10,8,3,6,1213,45,234,879]\n",
    "print(min(sayilar))"
   ]
  },
  {
   "cell_type": "code",
   "execution_count": 124,
   "metadata": {},
   "outputs": [
    {
     "name": "stdout",
     "output_type": "stream",
     "text": [
      "1213\n"
     ]
    }
   ],
   "source": [
    "sayilar=[23,67,17,23,10,8,3,6,1213,45,234,879]\n",
    "print(max(sayilar))"
   ]
  },
  {
   "cell_type": "code",
   "execution_count": null,
   "metadata": {},
   "outputs": [],
   "source": [
    "#pop() metodunu kullanarak bir liste öğesini sildiğimizde, silinen öğe ekrana basılacaktır.\n",
    "#Bu metot parametresiz olarak kullanıldığında listenin son öğesini listeden atar. Alternatif olarak,\n",
    "#bu metodu bir parametre ile birlikte de kullanabilirsiniz."
   ]
  },
  {
   "cell_type": "code",
   "execution_count": 131,
   "metadata": {},
   "outputs": [
    {
     "name": "stdout",
     "output_type": "stream",
     "text": [
      "silinen sayı:  1213\n",
      "yeni liste [23, 67, 17, 23, 10, 8, 3, 6, 45, 234, 879]\n"
     ]
    }
   ],
   "source": [
    "sayilar=[23,67,17,23,10,8,3,6,1213,45,234,879]\n",
    "sil=sayilar.pop(8)\n",
    "print(\"silinen sayı: \",sil)\n",
    "print(\"yeni liste\", sayilar)"
   ]
  },
  {
   "cell_type": "code",
   "execution_count": 133,
   "metadata": {},
   "outputs": [
    {
     "name": "stdout",
     "output_type": "stream",
     "text": [
      "[23, 67, 17, 23]\n",
      "[23, 67, 17, 23]\n",
      "[23, 67, 12, 23]\n",
      "[23, 67, 12, 23]\n"
     ]
    }
   ],
   "source": [
    "sayilar=[23,67,17,23]\n",
    "sayilar2=sayilar\n",
    "print(sayilar)\n",
    "print(sayilar2)\n",
    "sayilar[2]=12\n",
    "print(sayilar)\n",
    "print(sayilar2)"
   ]
  },
  {
   "cell_type": "code",
   "execution_count": 134,
   "metadata": {},
   "outputs": [
    {
     "data": {
      "text/plain": [
       "[]"
      ]
     },
     "execution_count": 134,
     "metadata": {},
     "output_type": "execute_result"
    }
   ],
   "source": [
    "liste = [1, 2, 3, 5, 10, 20, 30, 45]\n",
    "liste.clear() #listenin içeriğini tamamen siler.\n",
    "liste\n"
   ]
  },
  {
   "cell_type": "code",
   "execution_count": null,
   "metadata": {},
   "outputs": [],
   "source": []
  },
  {
   "cell_type": "code",
   "execution_count": null,
   "metadata": {},
   "outputs": [
    {
     "name": "stdout",
     "output_type": "stream",
     "text": [
      "çalışan sayısını giriniz: 3\n",
      "çalışanın ismini giriniz: elif\n",
      "çalışanın soyadını giriniz: büyükbatmaz\n",
      "çalışma saatini giriniz: 3\n",
      "TOPLAM ÜCRET:  60.0\n",
      "['elif'] ['büyükbatmaz'] [3.0]\n",
      "çalışanın ismini giriniz: burcu\n",
      "çalışanın soyadını giriniz: buyukbatmaz\n",
      "çalışma saatini giriniz: 4\n",
      "TOPLAM ÜCRET:  80.0\n",
      "['elif', 'burcu'] ['büyükbatmaz', 'buyukbatmaz'] [3.0, 4.0]\n"
     ]
    }
   ],
   "source": [
    "def main():\n",
    "    isim=[]\n",
    "    soyadi=[]\n",
    "    calisma_saati=[]\n",
    "    ucret=20\n",
    "    kisi=int(input(\"çalışan sayısını giriniz: \"))\n",
    "    for kayit in range(kisi):\n",
    "        isim_al=input(\"çalışanın ismini giriniz: \")\n",
    "        soyadi_al=input(\"çalışanın soyadını giriniz: \")\n",
    "        calisma=float(input(\"çalışma saatini giriniz: \"))\n",
    "        isim.append(isim_al)\n",
    "        soyadi.append(soyadi_al)\n",
    "        calisma_saati.append(calisma)\n",
    "        toplam=ucret*calisma\n",
    "        print(\"TOPLAM ÜCRET: \",toplam)\n",
    "        print(isim,soyadi,calisma_saati)\n",
    "    print(isim,soyadi,calisma_saati)\n",
    "\n",
    "main()"
   ]
  },
  {
   "cell_type": "code",
   "execution_count": 2,
   "metadata": {},
   "outputs": [
    {
     "name": "stdout",
     "output_type": "stream",
     "text": [
      "35\n"
     ]
    }
   ],
   "source": [
    "def main():\n",
    "    sayilar=[5,6,7,8,9]\n",
    "    toplam=0\n",
    "    for deger in sayilar:\n",
    "        toplam+=deger\n",
    "    print(toplam)\n",
    "\n",
    "main()"
   ]
  },
  {
   "cell_type": "code",
   "execution_count": 5,
   "metadata": {},
   "outputs": [
    {
     "name": "stdout",
     "output_type": "stream",
     "text": [
      "35\n",
      "7.0\n"
     ]
    }
   ],
   "source": [
    "def main():\n",
    "    sayilar=[5,6,7,8,9]\n",
    "    toplam=0\n",
    "    for deger in sayilar:\n",
    "        toplam+=deger\n",
    "    bol=toplam/len(sayilar) #dizideki eleman sayısı\n",
    "    print(toplam)\n",
    "    print(bol)\n",
    "\n",
    "main()"
   ]
  },
  {
   "cell_type": "code",
   "execution_count": 7,
   "metadata": {},
   "outputs": [
    {
     "name": "stdout",
     "output_type": "stream",
     "text": [
      "5\n"
     ]
    }
   ],
   "source": [
    "def main():\n",
    "    sayilar=[5,6,7,8,9]\n",
    "    print(topla(sayilar))\n",
    "def topla(deger):\n",
    "    toplam=0\n",
    "    for sayi in deger:\n",
    "        toplam+=sayi\n",
    "    return toplam\n",
    "main()"
   ]
  },
  {
   "cell_type": "code",
   "execution_count": 12,
   "metadata": {},
   "outputs": [
    {
     "name": "stdout",
     "output_type": "stream",
     "text": [
      "sınavınızın sonucunu giriniz: 12\n",
      "eklemeye devam edecek misiniz?\n",
      "evet=e , hayır=he\n",
      "\n",
      "sınavınızın sonucunu giriniz: 26\n",
      "eklemeye devam edecek misiniz?\n",
      "evet=e , hayır=hh\n",
      "\n",
      "26.00\n"
     ]
    }
   ],
   "source": [
    "def main():\n",
    "    not_Al=not_al()\n",
    "    toplam=not_toplam(not_Al)\n",
    "    en_dusuk=min(not_Al)\n",
    "    toplam-=en_dusuk\n",
    "    ortalama=toplam/(len(not_Al)-1)\n",
    "    print(format(ortalama , '.2f'))\n",
    "def not_al():\n",
    "    puan_listesi=[]\n",
    "    devam='e'\n",
    "    while devam=='e':\n",
    "        puan=float(input(\"sınavınızın sonucunu giriniz: \"))\n",
    "        puan_listesi.append(puan)\n",
    "        print(\"eklemeye devam edecek misiniz?\")\n",
    "        devam=input(\"evet=e , hayır=h\")\n",
    "        print()\n",
    "    return puan_listesi\n",
    "   \n",
    "def not_toplam(puan_listesi):\n",
    "    toplam=0.0\n",
    "    for sayi in puan_listesi:\n",
    "        toplam+=sayi\n",
    "    return toplam\n",
    "    \n",
    "main()\n",
    "    "
   ]
  },
  {
   "cell_type": "code",
   "execution_count": 15,
   "metadata": {},
   "outputs": [],
   "source": [
    "def main():\n",
    "    sehirler=[\"ankara\",\"istanbul\",\"izmir\",\"manisa\",\"yozgat\"]\n",
    "    sehirler_dosyasi=open(\"sehirler.txt\",\"w\")\n",
    "    sehirler_dosyasi.writelines(sehirler)\n",
    "    sehirler_dosyasi.close()\n",
    "main()"
   ]
  },
  {
   "cell_type": "code",
   "execution_count": 17,
   "metadata": {},
   "outputs": [],
   "source": [
    "def main():\n",
    "    sehirler=[\"ankara\",\"istanbul\",\"izmir\",\"manisa\",\"yozgat\"]\n",
    "    sehirler_dosyasi=open(\"sehirler.txt\",\"w\")\n",
    "    for item in sehirler:\n",
    "        sehirler_dosyasi.write(item+'\\n')\n",
    "    sehirler_dosyasi.close()\n",
    "main()"
   ]
  },
  {
   "cell_type": "code",
   "execution_count": 21,
   "metadata": {},
   "outputs": [
    {
     "name": "stdout",
     "output_type": "stream",
     "text": [
      "['ankara', 'istanbul', 'izmir', 'manisa', 'yozgat']\n"
     ]
    }
   ],
   "source": [
    "def main():\n",
    "    sehirler_dosyasi=open(\"sehirler.txt\",\"r\")\n",
    "    sehirler=sehirler_dosyasi.readlines()\n",
    "    sehirler_dosyasi.close()\n",
    "    index=0\n",
    "    while index<len(sehirler):\n",
    "        sehirler[index]=sehirler[index].rstrip('\\n')#string\n",
    "        index+=1\n",
    "    print(sehirler)\n",
    "main()"
   ]
  },
  {
   "cell_type": "code",
   "execution_count": null,
   "metadata": {},
   "outputs": [],
   "source": [
    "index=0\n",
    "while index<len(numbers):\n",
    "    numbers[index]=int(number[index]) #convert to int\n",
    "    index+=1"
   ]
  },
  {
   "cell_type": "code",
   "execution_count": null,
   "metadata": {},
   "outputs": [],
   "source": [
    "#2 BOYUTLU LİSTELER"
   ]
  },
  {
   "cell_type": "code",
   "execution_count": 22,
   "metadata": {},
   "outputs": [
    {
     "name": "stdout",
     "output_type": "stream",
     "text": [
      "[['elif', 'burcu'], ['okan', 'esma'], ['belçin', 'fırat'], ['inci', 'bahar']]\n"
     ]
    }
   ],
   "source": [
    "ogrenciler=[[\"elif\",\"burcu\"],[\"okan\",\"esma\"],[\"belçin\",\"fırat\"],[\"inci\",\"bahar\"]]\n",
    "print(ogrenciler)"
   ]
  },
  {
   "cell_type": "code",
   "execution_count": 27,
   "metadata": {},
   "outputs": [
    {
     "name": "stdout",
     "output_type": "stream",
     "text": [
      "['elif', 'burcu']\n",
      "['okan', 'esma']\n",
      "['belçin', 'fırat']\n",
      "['inci', 'bahar']\n"
     ]
    }
   ],
   "source": [
    "ogrenciler=[[\"elif\",\"burcu\"],[\"okan\",\"esma\"],[\"belçin\",\"fırat\"],[\"inci\",\"bahar\"]]\n",
    "print(ogrenciler[0])\n",
    "print(ogrenciler[1])\n",
    "print(ogrenciler[2])\n",
    "print(ogrenciler[3])"
   ]
  },
  {
   "cell_type": "code",
   "execution_count": 2,
   "metadata": {},
   "outputs": [
    {
     "name": "stdout",
     "output_type": "stream",
     "text": [
      "[[0, 0, 0], [0, 0, 0], [0, 0, 0]]\n"
     ]
    }
   ],
   "source": [
    "puan=[[0,0,0],\n",
    "      [0,0,0],\n",
    "      [0,0,0]]\n",
    "print(puan)"
   ]
  },
  {
   "cell_type": "code",
   "execution_count": 11,
   "metadata": {},
   "outputs": [
    {
     "name": "stdout",
     "output_type": "stream",
     "text": [
      "[[26, 67, 24, 73], [4, 35, 85, 71], [71, 6, 11, 14]]\n",
      "14\n"
     ]
    }
   ],
   "source": [
    "import random\n",
    "satır=3\n",
    "sutun=4\n",
    "def main():\n",
    "    deger=[[0,0,0,0],\n",
    "      [0,0,0,0],\n",
    "      [0,0,0,0]]\n",
    "    for sa in range(satır):\n",
    "        for su in range(sutun):\n",
    "            deger[sa][su]=random.randint(1,100)\n",
    "    print(deger)\n",
    "    print(deger[sa][su])\n",
    "main()"
   ]
  },
  {
   "cell_type": "code",
   "execution_count": null,
   "metadata": {},
   "outputs": [],
   "source": [
    "#TUPLES\n",
    "#Bir demet değişmez bir dizidir, yani içeriği değiştirilemez.\n",
    "#desteklemedikleri=append,remove,insert,reverse,sort\n",
    "#destekledikleri=index,len,min,max,in +,*\n",
    "#performans açısından kullanılır.\n",
    "#daha güvenilirdir içeriği değiştirilmez.\n",
    "# () tuple\n",
    "# [ ] liste"
   ]
  },
  {
   "cell_type": "code",
   "execution_count": 14,
   "metadata": {},
   "outputs": [],
   "source": [
    "tuple=(1,)\n",
    "deger=(1)"
   ]
  },
  {
   "cell_type": "code",
   "execution_count": 17,
   "metadata": {},
   "outputs": [
    {
     "name": "stdout",
     "output_type": "stream",
     "text": [
      "[1, 2, 3, 4, 5]\n"
     ]
    }
   ],
   "source": [
    "sayilar=(1,2,3,4,5)\n",
    "liste=list(sayilar)\n",
    "print(liste)"
   ]
  },
  {
   "cell_type": "code",
   "execution_count": 22,
   "metadata": {},
   "outputs": [
    {
     "ename": "TypeError",
     "evalue": "'tuple' object is not callable",
     "output_type": "error",
     "traceback": [
      "\u001b[1;31m---------------------------------------------------------------------------\u001b[0m",
      "\u001b[1;31mTypeError\u001b[0m                                 Traceback (most recent call last)",
      "\u001b[1;32m<ipython-input-22-675c14fcc872>\u001b[0m in \u001b[0;36m<module>\u001b[1;34m\u001b[0m\n\u001b[0;32m      1\u001b[0m \u001b[0msehir\u001b[0m\u001b[1;33m=\u001b[0m\u001b[1;33m[\u001b[0m\u001b[1;33m(\u001b[0m\u001b[1;34m\"ankara\"\u001b[0m\u001b[1;33m)\u001b[0m\u001b[1;33m,\u001b[0m\u001b[1;33m(\u001b[0m\u001b[1;34m\"istanbul\"\u001b[0m\u001b[1;33m)\u001b[0m\u001b[1;33m,\u001b[0m\u001b[1;33m(\u001b[0m\u001b[1;34m\"izmir\"\u001b[0m\u001b[1;33m)\u001b[0m\u001b[1;33m,\u001b[0m\u001b[1;33m(\u001b[0m\u001b[1;34m\"manisa\"\u001b[0m\u001b[1;33m)\u001b[0m\u001b[1;33m,\u001b[0m\u001b[1;33m(\u001b[0m\u001b[1;34m\"yozgat\"\u001b[0m\u001b[1;33m)\u001b[0m\u001b[1;33m]\u001b[0m\u001b[1;33m\u001b[0m\u001b[1;33m\u001b[0m\u001b[0m\n\u001b[1;32m----> 2\u001b[1;33m \u001b[0mtup\u001b[0m\u001b[1;33m=\u001b[0m\u001b[0mtuple\u001b[0m\u001b[1;33m(\u001b[0m\u001b[0msehir\u001b[0m\u001b[1;33m)\u001b[0m\u001b[1;33m\u001b[0m\u001b[1;33m\u001b[0m\u001b[0m\n\u001b[0m\u001b[0;32m      3\u001b[0m \u001b[0mprint\u001b[0m\u001b[1;33m(\u001b[0m\u001b[0mtup\u001b[0m\u001b[1;33m)\u001b[0m\u001b[1;33m\u001b[0m\u001b[1;33m\u001b[0m\u001b[0m\n",
      "\u001b[1;31mTypeError\u001b[0m: 'tuple' object is not callable"
     ]
    }
   ],
   "source": [
    "sehir=[(\"ankara\"),(\"istanbul\"),(\"izmir\"),(\"manisa\"),(\"yozgat\")]\n",
    "tup=tuple(sehir)\n",
    "print(tup)"
   ]
  },
  {
   "cell_type": "code",
   "execution_count": 23,
   "metadata": {},
   "outputs": [],
   "source": []
  }
 ],
 "metadata": {
  "kernelspec": {
   "display_name": "Python 3",
   "language": "python",
   "name": "python3"
  },
  "language_info": {
   "codemirror_mode": {
    "name": "ipython",
    "version": 3
   },
   "file_extension": ".py",
   "mimetype": "text/x-python",
   "name": "python",
   "nbconvert_exporter": "python",
   "pygments_lexer": "ipython3",
   "version": "3.8.3"
  }
 },
 "nbformat": 4,
 "nbformat_minor": 4
}

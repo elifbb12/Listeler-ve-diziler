{
 "cells": [
  {
   "cell_type": "code",
   "execution_count": null,
   "metadata": {},
   "outputs": [],
   "source": [
    "##for <değişken> in <iterable>\n",
    "## buraya yazılanı yap\n"
   ]
  },
  {
   "cell_type": "code",
   "execution_count": 8,
   "metadata": {},
   "outputs": [
    {
     "name": "stdout",
     "output_type": "stream",
     "text": [
      "veri yapıları\n",
      "iş sağlığı ve güvenliği\n",
      "mantıksal devre tasarımı\n",
      "diferansiyel denklemler \n"
     ]
    }
   ],
   "source": [
    "## ilk önce liste yapıcaz\n",
    "ders2 = [\"veri yapıları\" , \"iş sağlığı ve güvenliği\", \"mantıksal devre tasarımı\", \"diferansiyel denklemler \"]\n",
    "\n",
    "for ders in ders2 :\n",
    "    print(ders)"
   ]
  },
  {
   "cell_type": "code",
   "execution_count": 6,
   "metadata": {},
   "outputs": [
    {
     "name": "stdout",
     "output_type": "stream",
     "text": [
      "1  veri yapıları\n",
      "2  iş sağlığı ve güvenliği\n",
      "3  mantıksal devre tasarımı\n",
      "4  diferansiyel denklemler \n"
     ]
    }
   ],
   "source": [
    "ders2 = [\"veri yapıları\" , \"iş sağlığı ve güvenliği\", \"mantıksal devre tasarımı\", \"diferansiyel denklemler \"]\n",
    "\n",
    "ders_sayisi = 0\n",
    "for ders in ders2:\n",
    "    ders_sayisi = ders_sayisi +1\n",
    "    print(ders_sayisi ,\"\" ,ders )\n",
    "    "
   ]
  },
  {
   "cell_type": "code",
   "execution_count": 10,
   "metadata": {},
   "outputs": [
    {
     "data": {
      "text/plain": [
       "['veri', 'yapıları']"
      ]
     },
     "execution_count": 10,
     "metadata": {},
     "output_type": "execute_result"
    }
   ],
   "source": [
    "ders2[0].split()"
   ]
  },
  {
   "cell_type": "code",
   "execution_count": 5,
   "metadata": {},
   "outputs": [
    {
     "name": "stdout",
     "output_type": "stream",
     "text": [
      "'1'. dersin ilk adı '['veri yapıları', 'iş sağlığı ve güvenliği', 'mantıksal devre tasarımı', 'diferansiyel denklemler ']', dersin ikinci adı \n",
      "'2'. dersin ilk adı '['veri yapıları', 'iş sağlığı ve güvenliği', 'mantıksal devre tasarımı', 'diferansiyel denklemler ']', dersin ikinci adı \n",
      "'3'. dersin ilk adı '['veri yapıları', 'iş sağlığı ve güvenliği', 'mantıksal devre tasarımı', 'diferansiyel denklemler ']', dersin ikinci adı \n",
      "'4'. dersin ilk adı '['veri yapıları', 'iş sağlığı ve güvenliği', 'mantıksal devre tasarımı', 'diferansiyel denklemler ']', dersin ikinci adı \n"
     ]
    }
   ],
   "source": [
    "ders2 = [\"veri yapıları\" , \"iş sağlığı ve güvenliği\", \"mantıksal devre tasarımı\", \"diferansiyel denklemler \"]\n",
    "\n",
    "ders_sayisi = 0\n",
    "for ders in ders2:\n",
    "    ders_sayisi = ders_sayisi +1\n",
    "    isim1 , isim2 = ders.split()[0] , ders.split()[1]\n",
    "    print(\"'{0}'. dersin ilk adı '{1}', dersin ikinci adı \".format(ders_sayisi , ders2))"
   ]
  },
  {
   "cell_type": "code",
   "execution_count": 19,
   "metadata": {},
   "outputs": [
    {
     "name": "stdout",
     "output_type": "stream",
     "text": [
      "1\n",
      "5\n",
      "8\n"
     ]
    }
   ],
   "source": [
    "liste = [[1,2] , [5,6] , [8,9]]\n",
    "for x , y in liste :\n",
    "    print(x)"
   ]
  },
  {
   "cell_type": "code",
   "execution_count": 20,
   "metadata": {},
   "outputs": [
    {
     "name": "stdout",
     "output_type": "stream",
     "text": [
      "2\n",
      "30\n",
      "72\n"
     ]
    }
   ],
   "source": [
    "liste = [[1,2] , [5,6] , [8,9]]\n",
    "for x , y in liste :\n",
    "    print(x*y)"
   ]
  }
 ],
 "metadata": {
  "kernelspec": {
   "display_name": "Python 3",
   "language": "python",
   "name": "python3"
  },
  "language_info": {
   "codemirror_mode": {
    "name": "ipython",
    "version": 3
   },
   "file_extension": ".py",
   "mimetype": "text/x-python",
   "name": "python",
   "nbconvert_exporter": "python",
   "pygments_lexer": "ipython3",
   "version": "3.8.3"
  }
 },
 "nbformat": 4,
 "nbformat_minor": 4
}
